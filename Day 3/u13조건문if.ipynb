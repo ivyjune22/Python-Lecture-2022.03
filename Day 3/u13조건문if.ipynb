{
 "cells": [
  {
   "cell_type": "markdown",
   "metadata": {},
   "source": [
    "## Unit 13. if 조건문"
   ]
  },
  {
   "cell_type": "markdown",
   "metadata": {},
   "source": [
    "#### 13.1 if 조건문 사용하기"
   ]
  },
  {
   "cell_type": "code",
   "execution_count": 11,
   "metadata": {},
   "outputs": [
    {
     "name": "stdout",
     "output_type": "stream",
     "text": [
      "10입니다.\n"
     ]
    }
   ],
   "source": [
    "import random\n",
    "x = random.randint(9, 11)\n",
    "if x == 10:\n",
    "    print('10입니다.')"
   ]
  },
  {
   "cell_type": "code",
   "execution_count": 12,
   "metadata": {},
   "outputs": [
    {
     "name": "stdout",
     "output_type": "stream",
     "text": [
      "10\n"
     ]
    }
   ],
   "source": [
    "if x == 10:\n",
    "    pass        # Todo: x가 10일 때 처리할 코드\n",
    "print(x)"
   ]
  },
  {
   "cell_type": "code",
   "execution_count": 13,
   "metadata": {},
   "outputs": [
    {
     "name": "stdout",
     "output_type": "stream",
     "text": [
      "10\n"
     ]
    }
   ],
   "source": [
    "if x:\n",
    "    print(x)"
   ]
  },
  {
   "cell_type": "markdown",
   "metadata": {},
   "source": [
    "#### 13.2 if 조건문과 들여쓰기"
   ]
  },
  {
   "cell_type": "code",
   "execution_count": 15,
   "metadata": {},
   "outputs": [
    {
     "name": "stdout",
     "output_type": "stream",
     "text": [
      "10 입니다.\n",
      "들여쓰기한 이 부분은 조건이 참일 경우에 실행됩니다.\n",
      "들여쓰기가 끝나면 조건에 관계없이 실행됩니다.\n"
     ]
    }
   ],
   "source": [
    "if x == 10:\n",
    "    print(x, '입니다.')\n",
    "    print('들여쓰기한 이 부분은 조건이 참일 경우에 실행됩니다.')\n",
    "print('들여쓰기가 끝나면 조건에 관계없이 실행됩니다.')"
   ]
  },
  {
   "cell_type": "markdown",
   "metadata": {},
   "source": [
    "#### 13.3 중첩(Nested) 조건문"
   ]
  },
  {
   "cell_type": "code",
   "execution_count": 17,
   "metadata": {},
   "outputs": [
    {
     "name": "stdout",
     "output_type": "stream",
     "text": [
      "10 이상입니다.\n",
      "12\n"
     ]
    }
   ],
   "source": [
    "x = random.randint(1, 20)\n",
    "if x >= 10:\n",
    "    print('10 이상입니다.')\n",
    "    if x >= 15:\n",
    "        print('15 이상입니다.')\n",
    "print(x)"
   ]
  },
  {
   "cell_type": "code",
   "execution_count": 28,
   "metadata": {},
   "outputs": [
    {
     "name": "stdout",
     "output_type": "stream",
     "text": [
      "10 이상입니다.\n",
      "3의 배수입니다.\n",
      "18\n"
     ]
    }
   ],
   "source": [
    "# 10 이상 정수, 3의 배수를 찾기\n",
    "x = random.randint(1, 20)\n",
    "if x >= 10:\n",
    "    print('10 이상입니다.')\n",
    "    if x % 3 == 0:\n",
    "        print('3의 배수입니다.')\n",
    "print(x)"
   ]
  }
 ],
 "metadata": {
  "interpreter": {
   "hash": "ed225720166559e7176d3793db16a2fd8d295f725007103b21ac3099d2a89ee8"
  },
  "kernelspec": {
   "display_name": "Python 3.9.7 ('base')",
   "language": "python",
   "name": "python3"
  },
  "language_info": {
   "codemirror_mode": {
    "name": "ipython",
    "version": 3
   },
   "file_extension": ".py",
   "mimetype": "text/x-python",
   "name": "python",
   "nbconvert_exporter": "python",
   "pygments_lexer": "ipython3",
   "version": "3.9.7"
  },
  "orig_nbformat": 4
 },
 "nbformat": 4,
 "nbformat_minor": 2
}
